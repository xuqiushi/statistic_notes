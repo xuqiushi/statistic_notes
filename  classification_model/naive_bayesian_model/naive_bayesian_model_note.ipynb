{
 "cells": [
  {
   "cell_type": "code",
   "execution_count": 5,
   "outputs": [],
   "source": [
    "from dataclasses import dataclass\n",
    "import math\n",
    "import numpy as np\n",
    "import pandas as pd\n",
    "import seaborn as sns\n",
    "import matplotlib.pyplot as plt\n",
    "\n",
    "plt.rcParams['font.sans-serif'] = ['Arial Unicode MS']"
   ],
   "metadata": {
    "collapsed": false,
    "pycharm": {
     "name": "#%%\n"
    }
   }
  },
  {
   "cell_type": "code",
   "execution_count": 6,
   "outputs": [],
   "source": [
    "# 根据类别，生成数量，各类别比例生成随机数据\n",
    "def generate_random_data(names: [str], size: int, p: [str]):\n",
    "    if len(names) != len(p):\n",
    "        raise ValueError(f\"names length {len(names)} must same as p size {len(p)}\")\n",
    "    return np.random.choice(names, size, p=p)\n",
    "\n",
    "# 随机数据的基础信息类\n",
    "@dataclass\n",
    "class RandomInitParameter:\n",
    "    column_name: str\n",
    "    names: [str]\n",
    "    size: int\n",
    "    p: [str]\n",
    "\n",
    "    def get_random_data(self):\n",
    "        return generate_random_data(self.names, self.size, self.p)\n",
    "\n",
    "# 绘制df的辅助函数\n",
    "def draw_column_hist(random_data: pd.DataFrame):\n",
    "    # 一行画2个\n",
    "    figure_column_count = 2\n",
    "    figure_row_count = math.ceil(random_data.shape[1] / figure_column_count)\n",
    "    fig, axs = plt.subplots(figure_row_count, figure_column_count)\n",
    "    fig.tight_layout()\n",
    "    for figure_index, column in enumerate(random_data.columns):\n",
    "        sns.histplot(data=random_data[column].values, ax=axs[figure_index // 2, figure_index % 2])"
   ],
   "metadata": {
    "collapsed": false,
    "pycharm": {
     "name": "#%%\n"
    }
   }
  },
  {
   "cell_type": "code",
   "execution_count": 7,
   "outputs": [
    {
     "name": "stdout",
     "output_type": "stream",
     "text": [
      "    gender class_ranking target\n",
      "0       女生          班级前半   继续试用\n",
      "1       女生          班级前半   继续试用\n",
      "2       女生          班级后半   继续试用\n",
      "3       女生          班级前半   继续试用\n",
      "4       女生          班级前半   继续试用\n",
      "..     ...           ...    ...\n",
      "995     男生          班级后半   直接离开\n",
      "996     男生          班级前半   直接离开\n",
      "997     女生          班级后半   继续试用\n",
      "998     男生          班级前半   继续试用\n",
      "999     男生          班级前半   继续试用\n",
      "\n",
      "[1000 rows x 3 columns]\n"
     ]
    },
    {
     "data": {
      "text/plain": "<Figure size 432x288 with 4 Axes>",
      "image/png": "[encoded data removed]"
     },
     "metadata": {
      "needs_background": "light"
     },
     "output_type": "display_data"
    }
   ],
   "source": [
    "# 数据多少\n",
    "data_size = 1000\n",
    "# 各列数据信息\n",
    "feature_random_meta = [\n",
    "    RandomInitParameter(\n",
    "        \"gender\",\n",
    "        [\"男生\", \"女生\"],\n",
    "        data_size,\n",
    "        [0.3, 0.7]\n",
    "    ),  # 男女生列\n",
    "    RandomInitParameter(\n",
    "        \"class_ranking\",\n",
    "        [\"班级前半\", \"班级后半\"],\n",
    "        data_size,\n",
    "        [0.6, 0.4]\n",
    "    ),  # 班级前后列\n",
    "]\n",
    "\n",
    "target_random_meta = [\n",
    "    RandomInitParameter(\n",
    "        \"target\",\n",
    "        [\"直接离开\", \"继续试用\", \"转正\"],\n",
    "        data_size,\n",
    "        [0.2, 0.7, 0.1]\n",
    "    ),  # 班级前后列\n",
    "]\n",
    "\n",
    "# 生成随机数据\n",
    "random_tmp_data = {}\n",
    "for meta in feature_random_meta + target_random_meta:\n",
    "    random_tmp_data.update({\n",
    "        meta.column_name: meta.get_random_data()\n",
    "    })\n",
    "\n",
    "df = pd.DataFrame(random_tmp_data)\n",
    "print(df)\n",
    "\n",
    "draw_column_hist(df)"
   ],
   "metadata": {
    "collapsed": false,
    "pycharm": {
     "name": "#%%\n"
    }
   }
  },
  {
   "cell_type": "code",
   "execution_count": 18,
   "outputs": [
    {
     "name": "stdout",
     "output_type": "stream",
     "text": [
      "   gender class_ranking target  student_count\n",
      "0      女生          班级前半   直接离开             91\n",
      "1      女生          班级前半   继续试用            292\n",
      "2      女生          班级前半     转正             41\n",
      "3      女生          班级后半   直接离开             56\n",
      "4      女生          班级后半   继续试用            205\n",
      "5      女生          班级后半     转正             33\n",
      "6      男生          班级前半   直接离开             45\n",
      "7      男生          班级前半   继续试用            113\n",
      "8      男生          班级前半     转正             17\n",
      "9      男生          班级后半   直接离开             25\n",
      "10     男生          班级后半   继续试用             63\n",
      "11     男生          班级后半     转正             19\n",
      "  gender target  gender|target\n",
      "0     女生   直接离开       0.677419\n",
      "1     女生   继续试用       0.738484\n",
      "2     女生     转正       0.672727\n",
      "3     男生   直接离开       0.322581\n",
      "4     男生   继续试用       0.261516\n",
      "5     男生     转正       0.327273\n",
      "  class_ranking target  class_ranking|target\n",
      "0          班级前半   直接离开              0.626728\n",
      "1          班级前半   继续试用              0.601783\n",
      "2          班级前半     转正              0.527273\n",
      "3          班级后半   直接离开              0.373272\n",
      "4          班级后半   继续试用              0.398217\n",
      "5          班级后半     转正              0.472727\n"
     ]
    }
   ],
   "source": [
    "feature_names = [feature_meta.column_name for feature_meta in feature_random_meta]\n",
    "target_name = target_random_meta[0].column_name\n",
    "group_df = df.assign(student_count=1).groupby(feature_names+[target_name])[\"student_count\"].count().reset_index()\n",
    "print(group_df)\n",
    "\n",
    "conditional_column_group = {}\n",
    "\n",
    "for feature in feature_names:\n",
    "    conditional_column_group[feature] = (group_df.groupby([feature, target_name])[\"student_count\"].sum() / group_df.groupby([target_name])[\"student_count\"].sum()).reset_index()\n",
    "    conditional_column_group[feature] = conditional_column_group[feature].rename(columns={\"student_count\": f\"{feature}|{target_name}\"})\n",
    "    print(conditional_column_group[feature])"
   ],
   "metadata": {
    "collapsed": false,
    "pycharm": {
     "name": "#%%\n"
    }
   }
  },
  {
   "cell_type": "code",
   "execution_count": 20,
   "outputs": [
    {
     "name": "stdout",
     "output_type": "stream",
     "text": [
      "   gender target  gender|target class_ranking  class_ranking|target\n",
      "0      女生   直接离开       0.677419          班级前半              0.626728\n",
      "1      女生   直接离开       0.677419          班级后半              0.373272\n",
      "2      男生   直接离开       0.322581          班级前半              0.626728\n",
      "3      男生   直接离开       0.322581          班级后半              0.373272\n",
      "4      女生   继续试用       0.738484          班级前半              0.601783\n",
      "5      女生   继续试用       0.738484          班级后半              0.398217\n",
      "6      男生   继续试用       0.261516          班级前半              0.601783\n",
      "7      男生   继续试用       0.261516          班级后半              0.398217\n",
      "8      女生     转正       0.672727          班级前半              0.527273\n",
      "9      女生     转正       0.672727          班级后半              0.472727\n",
      "10     男生     转正       0.327273          班级前半              0.527273\n",
      "11     男生     转正       0.327273          班级后半              0.472727\n"
     ]
    }
   ],
   "source": [
    "result = None\n",
    "for key, value in conditional_column_group.items():\n",
    "    if result is None :\n",
    "        result = value\n",
    "    else:\n",
    "        result = result.merge(value, on=target_name)\n",
    "print(result)"
   ],
   "metadata": {
    "collapsed": false,
    "pycharm": {
     "name": "#%%\n"
    }
   }
  }
 ],
 "metadata": {
  "kernelspec": {
   "name": "python3",
   "language": "python",
   "display_name": "Python 3"
  },
  "language_info": {
   "codemirror_mode": {
    "name": "ipython",
    "version": 2
   },
   "file_extension": ".py",
   "mimetype": "text/x-python",
   "name": "python",
   "nbconvert_exporter": "python",
   "pygments_lexer": "ipython2",
   "version": "2.7.6"
  }
 },
 "nbformat": 4,
 "nbformat_minor": 0
}